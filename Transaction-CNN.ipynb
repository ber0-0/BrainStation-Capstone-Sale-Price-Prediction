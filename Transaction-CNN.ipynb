{
 "cells": [
  {
   "cell_type": "code",
   "execution_count": 1,
   "metadata": {},
   "outputs": [],
   "source": [
    "import pandas as pd\n",
    "import numpy as np\n",
    "\n",
    "import matplotlib.pyplot as plt\n",
    "%matplotlib inline\n",
    "\n",
    "from scipy import stats\n",
    "from scipy.stats import norm\n",
    "\n",
    "from sklearn.model_selection import train_test_split\n",
    "\n",
    "import warnings \n",
    "warnings.filterwarnings('ignore')\n",
    "warnings.filterwarnings('ignore', category=DeprecationWarning)\n",
    "\n",
    "import joblib"
   ]
  },
  {
   "cell_type": "code",
   "execution_count": 2,
   "metadata": {
    "scrolled": true
   },
   "outputs": [
    {
     "data": {
      "text/plain": [
       "(2557, 37)"
      ]
     },
     "execution_count": 2,
     "metadata": {},
     "output_type": "execute_result"
    }
   ],
   "source": [
    "df = pd.read_csv('data/Ames_Transaction.csv')\n",
    "df.shape"
   ]
  },
  {
   "cell_type": "code",
   "execution_count": 3,
   "metadata": {},
   "outputs": [
    {
     "data": {
      "text/html": [
       "<div>\n",
       "<style scoped>\n",
       "    .dataframe tbody tr th:only-of-type {\n",
       "        vertical-align: middle;\n",
       "    }\n",
       "\n",
       "    .dataframe tbody tr th {\n",
       "        vertical-align: top;\n",
       "    }\n",
       "\n",
       "    .dataframe thead th {\n",
       "        text-align: right;\n",
       "    }\n",
       "</style>\n",
       "<table border=\"1\" class=\"dataframe\">\n",
       "  <thead>\n",
       "    <tr style=\"text-align: right;\">\n",
       "      <th></th>\n",
       "      <th>GeoRefNo</th>\n",
       "      <th>ClassPr_S</th>\n",
       "      <th>ClassSc_S</th>\n",
       "      <th>MA_Zip1</th>\n",
       "      <th>PA-Strt</th>\n",
       "      <th>LndAc_S</th>\n",
       "      <th>ImpAc_S</th>\n",
       "      <th>OthAc_S</th>\n",
       "      <th>TtlVal_AsrYr</th>\n",
       "      <th>Neighborhood</th>\n",
       "      <th>...</th>\n",
       "      <th>PoolArea</th>\n",
       "      <th>GarageType</th>\n",
       "      <th>GarYrBlt</th>\n",
       "      <th>Cars</th>\n",
       "      <th>GarageArea</th>\n",
       "      <th>YrSold_YYYY</th>\n",
       "      <th>MoSold_MM</th>\n",
       "      <th>SalePrice</th>\n",
       "      <th>SaleType</th>\n",
       "      <th>SaleCond</th>\n",
       "    </tr>\n",
       "  </thead>\n",
       "  <tbody>\n",
       "    <tr>\n",
       "      <th>0</th>\n",
       "      <td>522105010</td>\n",
       "      <td>RESIDENTIAL</td>\n",
       "      <td>2-STORY 1946 &amp; NEWER</td>\n",
       "      <td>50010.0</td>\n",
       "      <td>LEDGES</td>\n",
       "      <td>93300</td>\n",
       "      <td>0</td>\n",
       "      <td>279700</td>\n",
       "      <td>373000</td>\n",
       "      <td>HaydnLk</td>\n",
       "      <td>...</td>\n",
       "      <td>0.0</td>\n",
       "      <td>Attachd</td>\n",
       "      <td>2016.0</td>\n",
       "      <td>3.0</td>\n",
       "      <td>647.0</td>\n",
       "      <td>2017.0</td>\n",
       "      <td>10.0</td>\n",
       "      <td>365400.0</td>\n",
       "      <td>WRDConv</td>\n",
       "      <td>Normal</td>\n",
       "    </tr>\n",
       "    <tr>\n",
       "      <th>1</th>\n",
       "      <td>522105010</td>\n",
       "      <td>RESIDENTIAL</td>\n",
       "      <td>2-STORY 1946 &amp; NEWER</td>\n",
       "      <td>50010.0</td>\n",
       "      <td>LEDGES</td>\n",
       "      <td>93300</td>\n",
       "      <td>0</td>\n",
       "      <td>279700</td>\n",
       "      <td>373000</td>\n",
       "      <td>HaydnLk</td>\n",
       "      <td>...</td>\n",
       "      <td>0.0</td>\n",
       "      <td>Attachd</td>\n",
       "      <td>2016.0</td>\n",
       "      <td>3.0</td>\n",
       "      <td>647.0</td>\n",
       "      <td>2016.0</td>\n",
       "      <td>5.0</td>\n",
       "      <td>75000.0</td>\n",
       "      <td>WRDConv</td>\n",
       "      <td>Normal</td>\n",
       "    </tr>\n",
       "    <tr>\n",
       "      <th>2</th>\n",
       "      <td>522110120</td>\n",
       "      <td>RESIDENTIAL</td>\n",
       "      <td>2-STORY 1946 &amp; NEWER</td>\n",
       "      <td>50010.0</td>\n",
       "      <td>LEDGES</td>\n",
       "      <td>98100</td>\n",
       "      <td>0</td>\n",
       "      <td>294400</td>\n",
       "      <td>392500</td>\n",
       "      <td>HaydnLk</td>\n",
       "      <td>...</td>\n",
       "      <td>0.0</td>\n",
       "      <td>Attachd</td>\n",
       "      <td>2018.0</td>\n",
       "      <td>3.0</td>\n",
       "      <td>744.0</td>\n",
       "      <td>2019.0</td>\n",
       "      <td>1.0</td>\n",
       "      <td>392500.0</td>\n",
       "      <td>WRDConv</td>\n",
       "      <td>Normal</td>\n",
       "    </tr>\n",
       "    <tr>\n",
       "      <th>3</th>\n",
       "      <td>522110120</td>\n",
       "      <td>RESIDENTIAL</td>\n",
       "      <td>2-STORY 1946 &amp; NEWER</td>\n",
       "      <td>50010.0</td>\n",
       "      <td>LEDGES</td>\n",
       "      <td>98100</td>\n",
       "      <td>0</td>\n",
       "      <td>294400</td>\n",
       "      <td>392500</td>\n",
       "      <td>HaydnLk</td>\n",
       "      <td>...</td>\n",
       "      <td>0.0</td>\n",
       "      <td>Attachd</td>\n",
       "      <td>2018.0</td>\n",
       "      <td>3.0</td>\n",
       "      <td>744.0</td>\n",
       "      <td>2018.0</td>\n",
       "      <td>1.0</td>\n",
       "      <td>75000.0</td>\n",
       "      <td>WRDConv</td>\n",
       "      <td>Normal</td>\n",
       "    </tr>\n",
       "    <tr>\n",
       "      <th>4</th>\n",
       "      <td>522150100</td>\n",
       "      <td>RESIDENTIAL</td>\n",
       "      <td>1-STORY 1946 &amp; NEWER ALL STYLES</td>\n",
       "      <td>50010.0</td>\n",
       "      <td>AUDUBON</td>\n",
       "      <td>80000</td>\n",
       "      <td>0</td>\n",
       "      <td>57300</td>\n",
       "      <td>137300</td>\n",
       "      <td>HaydnLk</td>\n",
       "      <td>...</td>\n",
       "      <td>0.0</td>\n",
       "      <td>No Data</td>\n",
       "      <td>0.0</td>\n",
       "      <td>0.0</td>\n",
       "      <td>0.0</td>\n",
       "      <td>2018.0</td>\n",
       "      <td>7.0</td>\n",
       "      <td>80000.0</td>\n",
       "      <td>WRDConv</td>\n",
       "      <td>Normal</td>\n",
       "    </tr>\n",
       "  </tbody>\n",
       "</table>\n",
       "<p>5 rows × 37 columns</p>\n",
       "</div>"
      ],
      "text/plain": [
       "    GeoRefNo    ClassPr_S                        ClassSc_S  MA_Zip1  PA-Strt  \\\n",
       "0  522105010  RESIDENTIAL             2-STORY 1946 & NEWER  50010.0   LEDGES   \n",
       "1  522105010  RESIDENTIAL             2-STORY 1946 & NEWER  50010.0   LEDGES   \n",
       "2  522110120  RESIDENTIAL             2-STORY 1946 & NEWER  50010.0   LEDGES   \n",
       "3  522110120  RESIDENTIAL             2-STORY 1946 & NEWER  50010.0   LEDGES   \n",
       "4  522150100  RESIDENTIAL  1-STORY 1946 & NEWER ALL STYLES  50010.0  AUDUBON   \n",
       "\n",
       "   LndAc_S  ImpAc_S  OthAc_S  TtlVal_AsrYr Neighborhood  ...  PoolArea  \\\n",
       "0    93300        0   279700        373000      HaydnLk  ...       0.0   \n",
       "1    93300        0   279700        373000      HaydnLk  ...       0.0   \n",
       "2    98100        0   294400        392500      HaydnLk  ...       0.0   \n",
       "3    98100        0   294400        392500      HaydnLk  ...       0.0   \n",
       "4    80000        0    57300        137300      HaydnLk  ...       0.0   \n",
       "\n",
       "  GarageType  GarYrBlt  Cars  GarageArea YrSold_YYYY MoSold_MM SalePrice  \\\n",
       "0    Attachd    2016.0   3.0       647.0      2017.0      10.0  365400.0   \n",
       "1    Attachd    2016.0   3.0       647.0      2016.0       5.0   75000.0   \n",
       "2    Attachd    2018.0   3.0       744.0      2019.0       1.0  392500.0   \n",
       "3    Attachd    2018.0   3.0       744.0      2018.0       1.0   75000.0   \n",
       "4    No Data       0.0   0.0         0.0      2018.0       7.0   80000.0   \n",
       "\n",
       "  SaleType SaleCond  \n",
       "0  WRDConv   Normal  \n",
       "1  WRDConv   Normal  \n",
       "2  WRDConv   Normal  \n",
       "3  WRDConv   Normal  \n",
       "4  WRDConv   Normal  \n",
       "\n",
       "[5 rows x 37 columns]"
      ]
     },
     "execution_count": 3,
     "metadata": {},
     "output_type": "execute_result"
    }
   ],
   "source": [
    "df.head()"
   ]
  },
  {
   "cell_type": "code",
   "execution_count": 4,
   "metadata": {},
   "outputs": [],
   "source": [
    "df.drop(['GeoRefNo', 'ClassPr_S','PA-Strt', 'BldgNo_S', 'DwlgNo_S'], axis=1, inplace=True)"
   ]
  },
  {
   "cell_type": "code",
   "execution_count": 5,
   "metadata": {},
   "outputs": [
    {
     "data": {
      "text/plain": [
       "(2557, 32)"
      ]
     },
     "execution_count": 5,
     "metadata": {},
     "output_type": "execute_result"
    }
   ],
   "source": [
    "df.shape"
   ]
  },
  {
   "cell_type": "code",
   "execution_count": 6,
   "metadata": {},
   "outputs": [
    {
     "data": {
      "text/html": [
       "<div>\n",
       "<style scoped>\n",
       "    .dataframe tbody tr th:only-of-type {\n",
       "        vertical-align: middle;\n",
       "    }\n",
       "\n",
       "    .dataframe tbody tr th {\n",
       "        vertical-align: top;\n",
       "    }\n",
       "\n",
       "    .dataframe thead th {\n",
       "        text-align: right;\n",
       "    }\n",
       "</style>\n",
       "<table border=\"1\" class=\"dataframe\">\n",
       "  <thead>\n",
       "    <tr style=\"text-align: right;\">\n",
       "      <th></th>\n",
       "      <th>ClassSc_S</th>\n",
       "      <th>MA_Zip1</th>\n",
       "      <th>LndAc_S</th>\n",
       "      <th>ImpAc_S</th>\n",
       "      <th>OthAc_S</th>\n",
       "      <th>TtlVal_AsrYr</th>\n",
       "      <th>Neighborhood</th>\n",
       "      <th>LotArea</th>\n",
       "      <th>ParType</th>\n",
       "      <th>YrBuilt</th>\n",
       "      <th>...</th>\n",
       "      <th>PoolArea</th>\n",
       "      <th>GarageType</th>\n",
       "      <th>GarYrBlt</th>\n",
       "      <th>Cars</th>\n",
       "      <th>GarageArea</th>\n",
       "      <th>YrSold_YYYY</th>\n",
       "      <th>MoSold_MM</th>\n",
       "      <th>SalePrice</th>\n",
       "      <th>SaleType</th>\n",
       "      <th>SaleCond</th>\n",
       "    </tr>\n",
       "  </thead>\n",
       "  <tbody>\n",
       "    <tr>\n",
       "      <th>0</th>\n",
       "      <td>2-STORY 1946 &amp; NEWER</td>\n",
       "      <td>50010.0</td>\n",
       "      <td>93300</td>\n",
       "      <td>0</td>\n",
       "      <td>279700</td>\n",
       "      <td>373000</td>\n",
       "      <td>HaydnLk</td>\n",
       "      <td>10015.0</td>\n",
       "      <td>Dwg&amp;Lot</td>\n",
       "      <td>2016.0</td>\n",
       "      <td>...</td>\n",
       "      <td>0.0</td>\n",
       "      <td>Attachd</td>\n",
       "      <td>2016.0</td>\n",
       "      <td>3.0</td>\n",
       "      <td>647.0</td>\n",
       "      <td>2017.0</td>\n",
       "      <td>10.0</td>\n",
       "      <td>365400.0</td>\n",
       "      <td>WRDConv</td>\n",
       "      <td>Normal</td>\n",
       "    </tr>\n",
       "    <tr>\n",
       "      <th>1</th>\n",
       "      <td>2-STORY 1946 &amp; NEWER</td>\n",
       "      <td>50010.0</td>\n",
       "      <td>93300</td>\n",
       "      <td>0</td>\n",
       "      <td>279700</td>\n",
       "      <td>373000</td>\n",
       "      <td>HaydnLk</td>\n",
       "      <td>10015.0</td>\n",
       "      <td>Dwg&amp;Lot</td>\n",
       "      <td>2016.0</td>\n",
       "      <td>...</td>\n",
       "      <td>0.0</td>\n",
       "      <td>Attachd</td>\n",
       "      <td>2016.0</td>\n",
       "      <td>3.0</td>\n",
       "      <td>647.0</td>\n",
       "      <td>2016.0</td>\n",
       "      <td>5.0</td>\n",
       "      <td>75000.0</td>\n",
       "      <td>WRDConv</td>\n",
       "      <td>Normal</td>\n",
       "    </tr>\n",
       "    <tr>\n",
       "      <th>2</th>\n",
       "      <td>2-STORY 1946 &amp; NEWER</td>\n",
       "      <td>50010.0</td>\n",
       "      <td>98100</td>\n",
       "      <td>0</td>\n",
       "      <td>294400</td>\n",
       "      <td>392500</td>\n",
       "      <td>HaydnLk</td>\n",
       "      <td>14904.0</td>\n",
       "      <td>Dwg&amp;Lot</td>\n",
       "      <td>2018.0</td>\n",
       "      <td>...</td>\n",
       "      <td>0.0</td>\n",
       "      <td>Attachd</td>\n",
       "      <td>2018.0</td>\n",
       "      <td>3.0</td>\n",
       "      <td>744.0</td>\n",
       "      <td>2019.0</td>\n",
       "      <td>1.0</td>\n",
       "      <td>392500.0</td>\n",
       "      <td>WRDConv</td>\n",
       "      <td>Normal</td>\n",
       "    </tr>\n",
       "    <tr>\n",
       "      <th>3</th>\n",
       "      <td>2-STORY 1946 &amp; NEWER</td>\n",
       "      <td>50010.0</td>\n",
       "      <td>98100</td>\n",
       "      <td>0</td>\n",
       "      <td>294400</td>\n",
       "      <td>392500</td>\n",
       "      <td>HaydnLk</td>\n",
       "      <td>14904.0</td>\n",
       "      <td>Dwg&amp;Lot</td>\n",
       "      <td>2018.0</td>\n",
       "      <td>...</td>\n",
       "      <td>0.0</td>\n",
       "      <td>Attachd</td>\n",
       "      <td>2018.0</td>\n",
       "      <td>3.0</td>\n",
       "      <td>744.0</td>\n",
       "      <td>2018.0</td>\n",
       "      <td>1.0</td>\n",
       "      <td>75000.0</td>\n",
       "      <td>WRDConv</td>\n",
       "      <td>Normal</td>\n",
       "    </tr>\n",
       "    <tr>\n",
       "      <th>4</th>\n",
       "      <td>1-STORY 1946 &amp; NEWER ALL STYLES</td>\n",
       "      <td>50010.0</td>\n",
       "      <td>80000</td>\n",
       "      <td>0</td>\n",
       "      <td>57300</td>\n",
       "      <td>137300</td>\n",
       "      <td>HaydnLk</td>\n",
       "      <td>9189.0</td>\n",
       "      <td>Vac.Lot</td>\n",
       "      <td>0.0</td>\n",
       "      <td>...</td>\n",
       "      <td>0.0</td>\n",
       "      <td>No Data</td>\n",
       "      <td>0.0</td>\n",
       "      <td>0.0</td>\n",
       "      <td>0.0</td>\n",
       "      <td>2018.0</td>\n",
       "      <td>7.0</td>\n",
       "      <td>80000.0</td>\n",
       "      <td>WRDConv</td>\n",
       "      <td>Normal</td>\n",
       "    </tr>\n",
       "  </tbody>\n",
       "</table>\n",
       "<p>5 rows × 32 columns</p>\n",
       "</div>"
      ],
      "text/plain": [
       "                         ClassSc_S  MA_Zip1  LndAc_S  ImpAc_S  OthAc_S  \\\n",
       "0             2-STORY 1946 & NEWER  50010.0    93300        0   279700   \n",
       "1             2-STORY 1946 & NEWER  50010.0    93300        0   279700   \n",
       "2             2-STORY 1946 & NEWER  50010.0    98100        0   294400   \n",
       "3             2-STORY 1946 & NEWER  50010.0    98100        0   294400   \n",
       "4  1-STORY 1946 & NEWER ALL STYLES  50010.0    80000        0    57300   \n",
       "\n",
       "   TtlVal_AsrYr Neighborhood  LotArea  ParType  YrBuilt  ... PoolArea  \\\n",
       "0        373000      HaydnLk  10015.0  Dwg&Lot   2016.0  ...      0.0   \n",
       "1        373000      HaydnLk  10015.0  Dwg&Lot   2016.0  ...      0.0   \n",
       "2        392500      HaydnLk  14904.0  Dwg&Lot   2018.0  ...      0.0   \n",
       "3        392500      HaydnLk  14904.0  Dwg&Lot   2018.0  ...      0.0   \n",
       "4        137300      HaydnLk   9189.0  Vac.Lot      0.0  ...      0.0   \n",
       "\n",
       "  GarageType GarYrBlt Cars GarageArea YrSold_YYYY MoSold_MM  SalePrice  \\\n",
       "0    Attachd   2016.0  3.0      647.0      2017.0      10.0   365400.0   \n",
       "1    Attachd   2016.0  3.0      647.0      2016.0       5.0    75000.0   \n",
       "2    Attachd   2018.0  3.0      744.0      2019.0       1.0   392500.0   \n",
       "3    Attachd   2018.0  3.0      744.0      2018.0       1.0    75000.0   \n",
       "4    No Data      0.0  0.0        0.0      2018.0       7.0    80000.0   \n",
       "\n",
       "   SaleType  SaleCond  \n",
       "0   WRDConv    Normal  \n",
       "1   WRDConv    Normal  \n",
       "2   WRDConv    Normal  \n",
       "3   WRDConv    Normal  \n",
       "4   WRDConv    Normal  \n",
       "\n",
       "[5 rows x 32 columns]"
      ]
     },
     "execution_count": 6,
     "metadata": {},
     "output_type": "execute_result"
    }
   ],
   "source": [
    "df.head()"
   ]
  },
  {
   "cell_type": "code",
   "execution_count": 7,
   "metadata": {},
   "outputs": [
    {
     "data": {
      "text/plain": [
       "ClassSc_S        object\n",
       "MA_Zip1         float64\n",
       "LndAc_S           int64\n",
       "ImpAc_S           int64\n",
       "OthAc_S           int64\n",
       "TtlVal_AsrYr      int64\n",
       "Neighborhood     object\n",
       "LotArea         float64\n",
       "ParType          object\n",
       "YrBuilt         float64\n",
       "Foundation       object\n",
       "RoofMatl         object\n",
       "Ext1             object\n",
       "Ext2             object\n",
       "MasVnrType       object\n",
       "Heating          object\n",
       "Central Air      object\n",
       "GLA             float64\n",
       "TtlBsmtSF       float64\n",
       "TotRmsAbvGrd    float64\n",
       "NmbrBRs         float64\n",
       "Fireplaces      float64\n",
       "PoolArea        float64\n",
       "GarageType       object\n",
       "GarYrBlt        float64\n",
       "Cars            float64\n",
       "GarageArea      float64\n",
       "YrSold_YYYY     float64\n",
       "MoSold_MM       float64\n",
       "SalePrice       float64\n",
       "SaleType         object\n",
       "SaleCond         object\n",
       "dtype: object"
      ]
     },
     "execution_count": 7,
     "metadata": {},
     "output_type": "execute_result"
    }
   ],
   "source": [
    "df.dtypes"
   ]
  },
  {
   "cell_type": "code",
   "execution_count": 8,
   "metadata": {},
   "outputs": [
    {
     "data": {
      "text/plain": [
       "dtype('int64')"
      ]
     },
     "execution_count": 8,
     "metadata": {},
     "output_type": "execute_result"
    }
   ],
   "source": [
    "df['TotRmsAbvGrd'] = df['TotRmsAbvGrd'].astype('int')\n",
    "df['TotRmsAbvGrd'].dtypes"
   ]
  },
  {
   "cell_type": "code",
   "execution_count": 9,
   "metadata": {},
   "outputs": [
    {
     "data": {
      "text/plain": [
       "dtype('int64')"
      ]
     },
     "execution_count": 9,
     "metadata": {},
     "output_type": "execute_result"
    }
   ],
   "source": [
    "df['NmbrBRs'] = df['NmbrBRs'].astype('int')\n",
    "df['NmbrBRs'].dtypes"
   ]
  },
  {
   "cell_type": "code",
   "execution_count": 10,
   "metadata": {},
   "outputs": [
    {
     "data": {
      "text/plain": [
       "dtype('int64')"
      ]
     },
     "execution_count": 10,
     "metadata": {},
     "output_type": "execute_result"
    }
   ],
   "source": [
    "df['Fireplaces'] = df['Fireplaces'].astype('int')\n",
    "df['Fireplaces'].dtypes"
   ]
  },
  {
   "cell_type": "code",
   "execution_count": 11,
   "metadata": {},
   "outputs": [
    {
     "data": {
      "text/plain": [
       "ClassSc_S        object\n",
       "MA_Zip1         float64\n",
       "LndAc_S           int64\n",
       "ImpAc_S           int64\n",
       "OthAc_S           int64\n",
       "TtlVal_AsrYr      int64\n",
       "Neighborhood     object\n",
       "LotArea         float64\n",
       "ParType          object\n",
       "YrBuilt         float64\n",
       "Foundation       object\n",
       "RoofMatl         object\n",
       "Ext1             object\n",
       "Ext2             object\n",
       "MasVnrType       object\n",
       "Heating          object\n",
       "Central Air      object\n",
       "GLA             float64\n",
       "TtlBsmtSF       float64\n",
       "TotRmsAbvGrd      int64\n",
       "NmbrBRs           int64\n",
       "Fireplaces        int64\n",
       "PoolArea        float64\n",
       "GarageType       object\n",
       "GarYrBlt        float64\n",
       "Cars            float64\n",
       "GarageArea      float64\n",
       "YrSold_YYYY     float64\n",
       "MoSold_MM       float64\n",
       "SalePrice       float64\n",
       "SaleType         object\n",
       "SaleCond         object\n",
       "dtype: object"
      ]
     },
     "execution_count": 11,
     "metadata": {},
     "output_type": "execute_result"
    }
   ],
   "source": [
    "df.dtypes"
   ]
  },
  {
   "cell_type": "code",
   "execution_count": 12,
   "metadata": {},
   "outputs": [
    {
     "data": {
      "text/html": [
       "<div>\n",
       "<style scoped>\n",
       "    .dataframe tbody tr th:only-of-type {\n",
       "        vertical-align: middle;\n",
       "    }\n",
       "\n",
       "    .dataframe tbody tr th {\n",
       "        vertical-align: top;\n",
       "    }\n",
       "\n",
       "    .dataframe thead th {\n",
       "        text-align: right;\n",
       "    }\n",
       "</style>\n",
       "<table border=\"1\" class=\"dataframe\">\n",
       "  <thead>\n",
       "    <tr style=\"text-align: right;\">\n",
       "      <th></th>\n",
       "      <th>ClassSc_S</th>\n",
       "      <th>MA_Zip1</th>\n",
       "      <th>LndAc_S</th>\n",
       "      <th>ImpAc_S</th>\n",
       "      <th>OthAc_S</th>\n",
       "      <th>TtlVal_AsrYr</th>\n",
       "      <th>Neighborhood</th>\n",
       "      <th>LotArea</th>\n",
       "      <th>ParType</th>\n",
       "      <th>YrBuilt</th>\n",
       "      <th>...</th>\n",
       "      <th>PoolArea</th>\n",
       "      <th>GarageType</th>\n",
       "      <th>GarYrBlt</th>\n",
       "      <th>Cars</th>\n",
       "      <th>GarageArea</th>\n",
       "      <th>YrSold_YYYY</th>\n",
       "      <th>MoSold_MM</th>\n",
       "      <th>SalePrice</th>\n",
       "      <th>SaleType</th>\n",
       "      <th>SaleCond</th>\n",
       "    </tr>\n",
       "  </thead>\n",
       "  <tbody>\n",
       "    <tr>\n",
       "      <th>0</th>\n",
       "      <td>2-STORY 1946 &amp; NEWER</td>\n",
       "      <td>50010.0</td>\n",
       "      <td>93300</td>\n",
       "      <td>0</td>\n",
       "      <td>279700</td>\n",
       "      <td>373000</td>\n",
       "      <td>HaydnLk</td>\n",
       "      <td>10015.0</td>\n",
       "      <td>Dwg&amp;Lot</td>\n",
       "      <td>2016.0</td>\n",
       "      <td>...</td>\n",
       "      <td>0.0</td>\n",
       "      <td>Attachd</td>\n",
       "      <td>2016.0</td>\n",
       "      <td>3.0</td>\n",
       "      <td>647.0</td>\n",
       "      <td>2017.0</td>\n",
       "      <td>10.0</td>\n",
       "      <td>365400.0</td>\n",
       "      <td>WRDConv</td>\n",
       "      <td>Normal</td>\n",
       "    </tr>\n",
       "    <tr>\n",
       "      <th>1</th>\n",
       "      <td>2-STORY 1946 &amp; NEWER</td>\n",
       "      <td>50010.0</td>\n",
       "      <td>93300</td>\n",
       "      <td>0</td>\n",
       "      <td>279700</td>\n",
       "      <td>373000</td>\n",
       "      <td>HaydnLk</td>\n",
       "      <td>10015.0</td>\n",
       "      <td>Dwg&amp;Lot</td>\n",
       "      <td>2016.0</td>\n",
       "      <td>...</td>\n",
       "      <td>0.0</td>\n",
       "      <td>Attachd</td>\n",
       "      <td>2016.0</td>\n",
       "      <td>3.0</td>\n",
       "      <td>647.0</td>\n",
       "      <td>2016.0</td>\n",
       "      <td>5.0</td>\n",
       "      <td>75000.0</td>\n",
       "      <td>WRDConv</td>\n",
       "      <td>Normal</td>\n",
       "    </tr>\n",
       "    <tr>\n",
       "      <th>2</th>\n",
       "      <td>2-STORY 1946 &amp; NEWER</td>\n",
       "      <td>50010.0</td>\n",
       "      <td>98100</td>\n",
       "      <td>0</td>\n",
       "      <td>294400</td>\n",
       "      <td>392500</td>\n",
       "      <td>HaydnLk</td>\n",
       "      <td>14904.0</td>\n",
       "      <td>Dwg&amp;Lot</td>\n",
       "      <td>2018.0</td>\n",
       "      <td>...</td>\n",
       "      <td>0.0</td>\n",
       "      <td>Attachd</td>\n",
       "      <td>2018.0</td>\n",
       "      <td>3.0</td>\n",
       "      <td>744.0</td>\n",
       "      <td>2019.0</td>\n",
       "      <td>1.0</td>\n",
       "      <td>392500.0</td>\n",
       "      <td>WRDConv</td>\n",
       "      <td>Normal</td>\n",
       "    </tr>\n",
       "    <tr>\n",
       "      <th>3</th>\n",
       "      <td>2-STORY 1946 &amp; NEWER</td>\n",
       "      <td>50010.0</td>\n",
       "      <td>98100</td>\n",
       "      <td>0</td>\n",
       "      <td>294400</td>\n",
       "      <td>392500</td>\n",
       "      <td>HaydnLk</td>\n",
       "      <td>14904.0</td>\n",
       "      <td>Dwg&amp;Lot</td>\n",
       "      <td>2018.0</td>\n",
       "      <td>...</td>\n",
       "      <td>0.0</td>\n",
       "      <td>Attachd</td>\n",
       "      <td>2018.0</td>\n",
       "      <td>3.0</td>\n",
       "      <td>744.0</td>\n",
       "      <td>2018.0</td>\n",
       "      <td>1.0</td>\n",
       "      <td>75000.0</td>\n",
       "      <td>WRDConv</td>\n",
       "      <td>Normal</td>\n",
       "    </tr>\n",
       "    <tr>\n",
       "      <th>4</th>\n",
       "      <td>1-STORY 1946 &amp; NEWER ALL STYLES</td>\n",
       "      <td>50010.0</td>\n",
       "      <td>80000</td>\n",
       "      <td>0</td>\n",
       "      <td>57300</td>\n",
       "      <td>137300</td>\n",
       "      <td>HaydnLk</td>\n",
       "      <td>9189.0</td>\n",
       "      <td>Vac.Lot</td>\n",
       "      <td>0.0</td>\n",
       "      <td>...</td>\n",
       "      <td>0.0</td>\n",
       "      <td>No Data</td>\n",
       "      <td>0.0</td>\n",
       "      <td>0.0</td>\n",
       "      <td>0.0</td>\n",
       "      <td>2018.0</td>\n",
       "      <td>7.0</td>\n",
       "      <td>80000.0</td>\n",
       "      <td>WRDConv</td>\n",
       "      <td>Normal</td>\n",
       "    </tr>\n",
       "  </tbody>\n",
       "</table>\n",
       "<p>5 rows × 32 columns</p>\n",
       "</div>"
      ],
      "text/plain": [
       "                         ClassSc_S  MA_Zip1  LndAc_S  ImpAc_S  OthAc_S  \\\n",
       "0             2-STORY 1946 & NEWER  50010.0    93300        0   279700   \n",
       "1             2-STORY 1946 & NEWER  50010.0    93300        0   279700   \n",
       "2             2-STORY 1946 & NEWER  50010.0    98100        0   294400   \n",
       "3             2-STORY 1946 & NEWER  50010.0    98100        0   294400   \n",
       "4  1-STORY 1946 & NEWER ALL STYLES  50010.0    80000        0    57300   \n",
       "\n",
       "   TtlVal_AsrYr Neighborhood  LotArea  ParType  YrBuilt  ... PoolArea  \\\n",
       "0        373000      HaydnLk  10015.0  Dwg&Lot   2016.0  ...      0.0   \n",
       "1        373000      HaydnLk  10015.0  Dwg&Lot   2016.0  ...      0.0   \n",
       "2        392500      HaydnLk  14904.0  Dwg&Lot   2018.0  ...      0.0   \n",
       "3        392500      HaydnLk  14904.0  Dwg&Lot   2018.0  ...      0.0   \n",
       "4        137300      HaydnLk   9189.0  Vac.Lot      0.0  ...      0.0   \n",
       "\n",
       "  GarageType GarYrBlt Cars GarageArea YrSold_YYYY MoSold_MM  SalePrice  \\\n",
       "0    Attachd   2016.0  3.0      647.0      2017.0      10.0   365400.0   \n",
       "1    Attachd   2016.0  3.0      647.0      2016.0       5.0    75000.0   \n",
       "2    Attachd   2018.0  3.0      744.0      2019.0       1.0   392500.0   \n",
       "3    Attachd   2018.0  3.0      744.0      2018.0       1.0    75000.0   \n",
       "4    No Data      0.0  0.0        0.0      2018.0       7.0    80000.0   \n",
       "\n",
       "   SaleType  SaleCond  \n",
       "0   WRDConv    Normal  \n",
       "1   WRDConv    Normal  \n",
       "2   WRDConv    Normal  \n",
       "3   WRDConv    Normal  \n",
       "4   WRDConv    Normal  \n",
       "\n",
       "[5 rows x 32 columns]"
      ]
     },
     "execution_count": 12,
     "metadata": {},
     "output_type": "execute_result"
    }
   ],
   "source": [
    "df.head()"
   ]
  },
  {
   "cell_type": "code",
   "execution_count": 13,
   "metadata": {},
   "outputs": [
    {
     "data": {
      "text/plain": [
       "13            1-1/2 STORY - UNFINISHED ALL AGES\n",
       "5                 1-1/2 STORY FINISHED ALL AGES\n",
       "14                 1-1/2 STORY TWNHM - ALL AGES\n",
       "12                         1-STORY 1945 & OLDER\n",
       "1               1-STORY 1946 & NEWER ALL STYLES\n",
       "2                  1-STORY TWNHM - 1946 & NEWER\n",
       "6     2 FAMILY CONVERSION - ALL STYLES AND AGES\n",
       "10                         2-1/2 STORY ALL AGES\n",
       "11                         2-STORY 1945 & OLDER\n",
       "0                          2-STORY 1946 & NEWER\n",
       "7                  2-STORY TWNHM - 1946 & NEWER\n",
       "4                                         CONDO\n",
       "9                  DUPLEX - ALL STYLES AND AGES\n",
       "8                                   SPLIT FOYER\n",
       "3                          SPLIT OR MULTI-LEVEL\n",
       "dtype: object"
      ]
     },
     "execution_count": 13,
     "metadata": {},
     "output_type": "execute_result"
    }
   ],
   "source": [
    "pd.Series(df['ClassSc_S'].unique()).sort_values()"
   ]
  },
  {
   "cell_type": "code",
   "execution_count": 14,
   "metadata": {},
   "outputs": [],
   "source": [
    "class_s = {\n",
    "    '1-STORY 1946 & NEWER ALL STYLES':20,\n",
    "    '1-STORY 1945 & OLDER':30,\n",
    "    '1-STORY TWNHM - 1946 & NEWER':35,\n",
    "    '1-STORY W/FINISHED ATTIC ALL AGES':40,\n",
    "    '1-1/2 STORY - UNFINISHED ALL AGES':45,\n",
    "    '1-1/2 STORY FINISHED ALL AGES':50,\n",
    "    '1-1/2 STORY TWNHM - ALL AGES':55,\n",
    "    '2-STORY 1946 & NEWER':60,\n",
    "    '2-STORY 1945 & OLDER':70,\n",
    "    '2-STORY TWNHM - 1946 & NEWER':75,\n",
    "    '2-1/2 STORY ALL AGES':80,\n",
    "    'SPLIT OR MULTI-LEVEL':85,\n",
    "    'SPLIT FOYER':90,\n",
    "    'DUPLEX - ALL STYLES AND AGES':100,\n",
    "    '2 FAMILY CONVERSION - ALL STYLES AND AGES':190,\n",
    "    'CONDO':200\n",
    "} "
   ]
  },
  {
   "cell_type": "code",
   "execution_count": 15,
   "metadata": {},
   "outputs": [],
   "source": [
    "df['ClassSc_S'].replace(class_s, inplace=True)"
   ]
  },
  {
   "cell_type": "code",
   "execution_count": 16,
   "metadata": {},
   "outputs": [
    {
     "data": {
      "text/plain": [
       "array([ 60,  20,  35,  85, 200,  50, 190,  75,  90, 100,  80,  70,  30,\n",
       "        45,  55])"
      ]
     },
     "execution_count": 16,
     "metadata": {},
     "output_type": "execute_result"
    }
   ],
   "source": [
    "df['ClassSc_S'].unique()"
   ]
  },
  {
   "cell_type": "code",
   "execution_count": 17,
   "metadata": {},
   "outputs": [
    {
     "data": {
      "text/html": [
       "<div>\n",
       "<style scoped>\n",
       "    .dataframe tbody tr th:only-of-type {\n",
       "        vertical-align: middle;\n",
       "    }\n",
       "\n",
       "    .dataframe tbody tr th {\n",
       "        vertical-align: top;\n",
       "    }\n",
       "\n",
       "    .dataframe thead th {\n",
       "        text-align: right;\n",
       "    }\n",
       "</style>\n",
       "<table border=\"1\" class=\"dataframe\">\n",
       "  <thead>\n",
       "    <tr style=\"text-align: right;\">\n",
       "      <th></th>\n",
       "      <th>ClassSc_S</th>\n",
       "      <th>MA_Zip1</th>\n",
       "      <th>LndAc_S</th>\n",
       "      <th>ImpAc_S</th>\n",
       "      <th>OthAc_S</th>\n",
       "      <th>TtlVal_AsrYr</th>\n",
       "      <th>Neighborhood</th>\n",
       "      <th>LotArea</th>\n",
       "      <th>ParType</th>\n",
       "      <th>YrBuilt</th>\n",
       "      <th>...</th>\n",
       "      <th>PoolArea</th>\n",
       "      <th>GarageType</th>\n",
       "      <th>GarYrBlt</th>\n",
       "      <th>Cars</th>\n",
       "      <th>GarageArea</th>\n",
       "      <th>YrSold_YYYY</th>\n",
       "      <th>MoSold_MM</th>\n",
       "      <th>SalePrice</th>\n",
       "      <th>SaleType</th>\n",
       "      <th>SaleCond</th>\n",
       "    </tr>\n",
       "  </thead>\n",
       "  <tbody>\n",
       "    <tr>\n",
       "      <th>1203</th>\n",
       "      <td>20</td>\n",
       "      <td>50010.0</td>\n",
       "      <td>59500</td>\n",
       "      <td>0</td>\n",
       "      <td>178500</td>\n",
       "      <td>238000</td>\n",
       "      <td>N Ames</td>\n",
       "      <td>8092.0</td>\n",
       "      <td>Dwg&amp;Lot</td>\n",
       "      <td>2010.0</td>\n",
       "      <td>...</td>\n",
       "      <td>0.0</td>\n",
       "      <td>Attachd</td>\n",
       "      <td>1954.0</td>\n",
       "      <td>1.0</td>\n",
       "      <td>286.0</td>\n",
       "      <td>2018.0</td>\n",
       "      <td>9.0</td>\n",
       "      <td>224350.0</td>\n",
       "      <td>WRDConv</td>\n",
       "      <td>Normal</td>\n",
       "    </tr>\n",
       "  </tbody>\n",
       "</table>\n",
       "<p>1 rows × 32 columns</p>\n",
       "</div>"
      ],
      "text/plain": [
       "      ClassSc_S  MA_Zip1  LndAc_S  ImpAc_S  OthAc_S  TtlVal_AsrYr  \\\n",
       "1203         20  50010.0    59500        0   178500        238000   \n",
       "\n",
       "     Neighborhood  LotArea  ParType  YrBuilt  ... PoolArea GarageType  \\\n",
       "1203       N Ames   8092.0  Dwg&Lot   2010.0  ...      0.0    Attachd   \n",
       "\n",
       "     GarYrBlt Cars GarageArea YrSold_YYYY MoSold_MM  SalePrice  SaleType  \\\n",
       "1203   1954.0  1.0      286.0      2018.0       9.0   224350.0   WRDConv   \n",
       "\n",
       "      SaleCond  \n",
       "1203    Normal  \n",
       "\n",
       "[1 rows x 32 columns]"
      ]
     },
     "execution_count": 17,
     "metadata": {},
     "output_type": "execute_result"
    }
   ],
   "source": [
    "df[df['TotRmsAbvGrd']==77]"
   ]
  },
  {
   "cell_type": "code",
   "execution_count": 18,
   "metadata": {},
   "outputs": [],
   "source": [
    "df.at[1203, 'TotRmsAbvGrd']=7.0"
   ]
  },
  {
   "cell_type": "code",
   "execution_count": 19,
   "metadata": {
    "scrolled": true
   },
   "outputs": [
    {
     "data": {
      "text/plain": [
       "ClassSc_S            20\n",
       "MA_Zip1           50010\n",
       "LndAc_S           59500\n",
       "ImpAc_S               0\n",
       "OthAc_S          178500\n",
       "TtlVal_AsrYr     238000\n",
       "Neighborhood     N Ames\n",
       "LotArea            8092\n",
       "ParType         Dwg&Lot\n",
       "YrBuilt            2010\n",
       "Foundation      C'Block\n",
       "RoofMatl        CompShg\n",
       "Ext1            Wd Sdng\n",
       "Ext2            Wd Sdng\n",
       "MasVnrType      BrkFace\n",
       "Heating          GasFWA\n",
       "Central Air         Yes\n",
       "GLA                1182\n",
       "TtlBsmtSF          1050\n",
       "TotRmsAbvGrd          7\n",
       "NmbrBRs               3\n",
       "Fireplaces            0\n",
       "PoolArea              0\n",
       "GarageType      Attachd\n",
       "GarYrBlt           1954\n",
       "Cars                  1\n",
       "GarageArea          286\n",
       "YrSold_YYYY        2018\n",
       "MoSold_MM             9\n",
       "SalePrice        224350\n",
       "SaleType        WRDConv\n",
       "SaleCond         Normal\n",
       "Name: 1203, dtype: object"
      ]
     },
     "execution_count": 19,
     "metadata": {},
     "output_type": "execute_result"
    }
   ],
   "source": [
    "df.iloc[1203]"
   ]
  },
  {
   "cell_type": "code",
   "execution_count": 20,
   "metadata": {},
   "outputs": [
    {
     "data": {
      "text/html": [
       "<div>\n",
       "<style scoped>\n",
       "    .dataframe tbody tr th:only-of-type {\n",
       "        vertical-align: middle;\n",
       "    }\n",
       "\n",
       "    .dataframe tbody tr th {\n",
       "        vertical-align: top;\n",
       "    }\n",
       "\n",
       "    .dataframe thead th {\n",
       "        text-align: right;\n",
       "    }\n",
       "</style>\n",
       "<table border=\"1\" class=\"dataframe\">\n",
       "  <thead>\n",
       "    <tr style=\"text-align: right;\">\n",
       "      <th></th>\n",
       "      <th>ClassSc_S</th>\n",
       "      <th>MA_Zip1</th>\n",
       "      <th>LndAc_S</th>\n",
       "      <th>ImpAc_S</th>\n",
       "      <th>OthAc_S</th>\n",
       "      <th>TtlVal_AsrYr</th>\n",
       "      <th>Neighborhood</th>\n",
       "      <th>LotArea</th>\n",
       "      <th>ParType</th>\n",
       "      <th>YrBuilt</th>\n",
       "      <th>...</th>\n",
       "      <th>PoolArea</th>\n",
       "      <th>GarageType</th>\n",
       "      <th>GarYrBlt</th>\n",
       "      <th>Cars</th>\n",
       "      <th>GarageArea</th>\n",
       "      <th>YrSold_YYYY</th>\n",
       "      <th>MoSold_MM</th>\n",
       "      <th>SalePrice</th>\n",
       "      <th>SaleType</th>\n",
       "      <th>SaleCond</th>\n",
       "    </tr>\n",
       "  </thead>\n",
       "  <tbody>\n",
       "    <tr>\n",
       "      <th>1314</th>\n",
       "      <td>45</td>\n",
       "      <td>50010.0</td>\n",
       "      <td>37700</td>\n",
       "      <td>0</td>\n",
       "      <td>112900</td>\n",
       "      <td>150600</td>\n",
       "      <td>N Ames</td>\n",
       "      <td>6390.0</td>\n",
       "      <td>Dwg&amp;Lot</td>\n",
       "      <td>1954.0</td>\n",
       "      <td>...</td>\n",
       "      <td>0.0</td>\n",
       "      <td>Detachd</td>\n",
       "      <td>1954.0</td>\n",
       "      <td>1.0</td>\n",
       "      <td>280.0</td>\n",
       "      <td>2016.0</td>\n",
       "      <td>5.0</td>\n",
       "      <td>178500.0</td>\n",
       "      <td>WRDConv</td>\n",
       "      <td>Normal</td>\n",
       "    </tr>\n",
       "  </tbody>\n",
       "</table>\n",
       "<p>1 rows × 32 columns</p>\n",
       "</div>"
      ],
      "text/plain": [
       "      ClassSc_S  MA_Zip1  LndAc_S  ImpAc_S  OthAc_S  TtlVal_AsrYr  \\\n",
       "1314         45  50010.0    37700        0   112900        150600   \n",
       "\n",
       "     Neighborhood  LotArea  ParType  YrBuilt  ... PoolArea GarageType  \\\n",
       "1314       N Ames   6390.0  Dwg&Lot   1954.0  ...      0.0    Detachd   \n",
       "\n",
       "     GarYrBlt Cars GarageArea YrSold_YYYY MoSold_MM  SalePrice  SaleType  \\\n",
       "1314   1954.0  1.0      280.0      2016.0       5.0   178500.0   WRDConv   \n",
       "\n",
       "      SaleCond  \n",
       "1314    Normal  \n",
       "\n",
       "[1 rows x 32 columns]"
      ]
     },
     "execution_count": 20,
     "metadata": {},
     "output_type": "execute_result"
    }
   ],
   "source": [
    "df[df['NmbrBRs']==33]"
   ]
  },
  {
   "cell_type": "code",
   "execution_count": 21,
   "metadata": {},
   "outputs": [],
   "source": [
    "df.at[1314, 'NmbrBRs']=3.0"
   ]
  },
  {
   "cell_type": "code",
   "execution_count": 22,
   "metadata": {
    "scrolled": true
   },
   "outputs": [
    {
     "data": {
      "text/plain": [
       "ClassSc_S            45\n",
       "MA_Zip1           50010\n",
       "LndAc_S           37700\n",
       "ImpAc_S               0\n",
       "OthAc_S          112900\n",
       "TtlVal_AsrYr     150600\n",
       "Neighborhood     N Ames\n",
       "LotArea            6390\n",
       "ParType         Dwg&Lot\n",
       "YrBuilt            1954\n",
       "Foundation      C'Block\n",
       "RoofMatl        CompShg\n",
       "Ext1            MetalSd\n",
       "Ext2            MetalSd\n",
       "MasVnrType         None\n",
       "Heating          GasFWA\n",
       "Central Air         Yes\n",
       "GLA                1360\n",
       "TtlBsmtSF           984\n",
       "TotRmsAbvGrd          4\n",
       "NmbrBRs               3\n",
       "Fireplaces            0\n",
       "PoolArea              0\n",
       "GarageType      Detachd\n",
       "GarYrBlt           1954\n",
       "Cars                  1\n",
       "GarageArea          280\n",
       "YrSold_YYYY        2016\n",
       "MoSold_MM             5\n",
       "SalePrice        178500\n",
       "SaleType        WRDConv\n",
       "SaleCond         Normal\n",
       "Name: 1314, dtype: object"
      ]
     },
     "execution_count": 22,
     "metadata": {},
     "output_type": "execute_result"
    }
   ],
   "source": [
    "df.iloc[1314]"
   ]
  },
  {
   "cell_type": "code",
   "execution_count": 23,
   "metadata": {},
   "outputs": [],
   "source": [
    "df.drop(['ImpAc_S'],axis=1,inplace=True)"
   ]
  },
  {
   "cell_type": "code",
   "execution_count": 24,
   "metadata": {},
   "outputs": [
    {
     "data": {
      "text/html": [
       "<div>\n",
       "<style scoped>\n",
       "    .dataframe tbody tr th:only-of-type {\n",
       "        vertical-align: middle;\n",
       "    }\n",
       "\n",
       "    .dataframe tbody tr th {\n",
       "        vertical-align: top;\n",
       "    }\n",
       "\n",
       "    .dataframe thead th {\n",
       "        text-align: right;\n",
       "    }\n",
       "</style>\n",
       "<table border=\"1\" class=\"dataframe\">\n",
       "  <thead>\n",
       "    <tr style=\"text-align: right;\">\n",
       "      <th></th>\n",
       "      <th>ClassSc_S</th>\n",
       "      <th>MA_Zip1</th>\n",
       "      <th>LndAc_S</th>\n",
       "      <th>OthAc_S</th>\n",
       "      <th>TtlVal_AsrYr</th>\n",
       "      <th>Neighborhood</th>\n",
       "      <th>LotArea</th>\n",
       "      <th>ParType</th>\n",
       "      <th>YrBuilt</th>\n",
       "      <th>Foundation</th>\n",
       "      <th>...</th>\n",
       "      <th>PoolArea</th>\n",
       "      <th>GarageType</th>\n",
       "      <th>GarYrBlt</th>\n",
       "      <th>Cars</th>\n",
       "      <th>GarageArea</th>\n",
       "      <th>YrSold_YYYY</th>\n",
       "      <th>MoSold_MM</th>\n",
       "      <th>SalePrice</th>\n",
       "      <th>SaleType</th>\n",
       "      <th>SaleCond</th>\n",
       "    </tr>\n",
       "  </thead>\n",
       "  <tbody>\n",
       "    <tr>\n",
       "      <th>4</th>\n",
       "      <td>20</td>\n",
       "      <td>50010.0</td>\n",
       "      <td>80000</td>\n",
       "      <td>57300</td>\n",
       "      <td>137300</td>\n",
       "      <td>HaydnLk</td>\n",
       "      <td>9189.0</td>\n",
       "      <td>Vac.Lot</td>\n",
       "      <td>0.0</td>\n",
       "      <td>No Data</td>\n",
       "      <td>...</td>\n",
       "      <td>0.0</td>\n",
       "      <td>No Data</td>\n",
       "      <td>0.0</td>\n",
       "      <td>0.0</td>\n",
       "      <td>0.0</td>\n",
       "      <td>2018.0</td>\n",
       "      <td>7.0</td>\n",
       "      <td>80000.0</td>\n",
       "      <td>WRDConv</td>\n",
       "      <td>Normal</td>\n",
       "    </tr>\n",
       "    <tr>\n",
       "      <th>5</th>\n",
       "      <td>20</td>\n",
       "      <td>50010.0</td>\n",
       "      <td>80000</td>\n",
       "      <td>57300</td>\n",
       "      <td>137300</td>\n",
       "      <td>HaydnLk</td>\n",
       "      <td>9189.0</td>\n",
       "      <td>Vac.Lot</td>\n",
       "      <td>0.0</td>\n",
       "      <td>No Data</td>\n",
       "      <td>...</td>\n",
       "      <td>0.0</td>\n",
       "      <td>No Data</td>\n",
       "      <td>0.0</td>\n",
       "      <td>0.0</td>\n",
       "      <td>0.0</td>\n",
       "      <td>2017.0</td>\n",
       "      <td>4.0</td>\n",
       "      <td>3999.0</td>\n",
       "      <td>WRDConv</td>\n",
       "      <td>Abnorml</td>\n",
       "    </tr>\n",
       "  </tbody>\n",
       "</table>\n",
       "<p>2 rows × 31 columns</p>\n",
       "</div>"
      ],
      "text/plain": [
       "   ClassSc_S  MA_Zip1  LndAc_S  OthAc_S  TtlVal_AsrYr Neighborhood  LotArea  \\\n",
       "4         20  50010.0    80000    57300        137300      HaydnLk   9189.0   \n",
       "5         20  50010.0    80000    57300        137300      HaydnLk   9189.0   \n",
       "\n",
       "   ParType  YrBuilt Foundation  ... PoolArea GarageType GarYrBlt Cars  \\\n",
       "4  Vac.Lot      0.0    No Data  ...      0.0    No Data      0.0  0.0   \n",
       "5  Vac.Lot      0.0    No Data  ...      0.0    No Data      0.0  0.0   \n",
       "\n",
       "  GarageArea YrSold_YYYY  MoSold_MM  SalePrice  SaleType  SaleCond  \n",
       "4        0.0      2018.0        7.0    80000.0   WRDConv    Normal  \n",
       "5        0.0      2017.0        4.0     3999.0   WRDConv   Abnorml  \n",
       "\n",
       "[2 rows x 31 columns]"
      ]
     },
     "execution_count": 24,
     "metadata": {},
     "output_type": "execute_result"
    }
   ],
   "source": [
    "df[df['YrBuilt']==0]"
   ]
  },
  {
   "cell_type": "code",
   "execution_count": 25,
   "metadata": {},
   "outputs": [],
   "source": [
    "df.drop([df.index[4],df.index[5]],inplace=True)"
   ]
  },
  {
   "cell_type": "code",
   "execution_count": 26,
   "metadata": {},
   "outputs": [],
   "source": [
    "df['BldAge_Sold'] = df['YrSold_YYYY']-df['YrBuilt']"
   ]
  },
  {
   "cell_type": "code",
   "execution_count": 27,
   "metadata": {},
   "outputs": [
    {
     "data": {
      "text/plain": [
       "array([  1.,   0.,  -1.,  -2.,  60.,  50.,  19.,  18.,  20.,  21.,  22.,\n",
       "        11.,  12.,  15.,  17.,   2.,  14.,  27.,  25.,  23.,  26.,  24.,\n",
       "        53.,  52.,  59.,  57.,  44.,  43.,  46.,  45.,  13.,  28.,  32.,\n",
       "        29.,  33.,  34.,  30.,  70.,  31.,  47.,  10.,  61.,  68.,  65.,\n",
       "        38.,  35.,  36.,  40.,  42.,  39.,  37.,  41.,  16.,   7.,  49.,\n",
       "        48.,   4.,  51.,   9.,   5.,   8.,   6.,   3.,  56.,  54.,  55.,\n",
       "       101.,  58.,  64.,  62.,  90.,  72.,  71.,  77.,  76.,  80.,  78.,\n",
       "        75.,  79., 108.,  67.,  63.,  66.,  69.,  94., 100.,  96., 128.,\n",
       "        88., 119., 116.,  98.,  91., 106.,  97., 138., 118.,  99.,  92.,\n",
       "       113., 102., 112.,  87., 107.,  93., 117.,  74.,  73., 126.,  82.,\n",
       "       103., 111., 121., 127.,  86., 109., 104., 125., 105., 124., 132.,\n",
       "       131.,  81.,  89.,  83., 115.,  84.,  95., 139.,  85., 123.])"
      ]
     },
     "execution_count": 27,
     "metadata": {},
     "output_type": "execute_result"
    }
   ],
   "source": [
    "df['BldAge_Sold'].unique()"
   ]
  },
  {
   "cell_type": "code",
   "execution_count": 28,
   "metadata": {},
   "outputs": [
    {
     "name": "stdout",
     "output_type": "stream",
     "text": [
      "(57, 32)\n"
     ]
    }
   ],
   "source": [
    "print(df[df['BldAge_Sold']<0].shape)"
   ]
  },
  {
   "cell_type": "code",
   "execution_count": 29,
   "metadata": {},
   "outputs": [],
   "source": [
    "df.drop(df[df['BldAge_Sold']<0].index, axis=0, inplace=True)"
   ]
  },
  {
   "cell_type": "code",
   "execution_count": 30,
   "metadata": {},
   "outputs": [
    {
     "name": "stdout",
     "output_type": "stream",
     "text": [
      "(0, 32)\n"
     ]
    }
   ],
   "source": [
    "print(df[df['BldAge_Sold']<0].shape)"
   ]
  },
  {
   "cell_type": "code",
   "execution_count": 31,
   "metadata": {},
   "outputs": [],
   "source": [
    "df.drop(['YrBuilt'], axis=1, inplace = True)"
   ]
  },
  {
   "cell_type": "code",
   "execution_count": 32,
   "metadata": {},
   "outputs": [
    {
     "data": {
      "text/plain": [
       "dtype('int32')"
      ]
     },
     "execution_count": 32,
     "metadata": {},
     "output_type": "execute_result"
    }
   ],
   "source": [
    "df['YrSold_YYYY'] = df['YrSold_YYYY'].astype('int32')\n",
    "df['YrSold_YYYY'].dtypes"
   ]
  },
  {
   "cell_type": "code",
   "execution_count": 33,
   "metadata": {},
   "outputs": [
    {
     "data": {
      "text/plain": [
       "dtype('int32')"
      ]
     },
     "execution_count": 33,
     "metadata": {},
     "output_type": "execute_result"
    }
   ],
   "source": [
    "df['MoSold_MM'] = df['MoSold_MM'].astype('int32')\n",
    "df['MoSold_MM'].dtypes"
   ]
  },
  {
   "cell_type": "code",
   "execution_count": 34,
   "metadata": {},
   "outputs": [],
   "source": [
    "df['Pool'] = np.where(df['PoolArea']==0, 0, 1).astype('object')\n",
    "df['Garage'] = np.where(df['GarageArea']==0, 0, 1).astype('object')"
   ]
  },
  {
   "cell_type": "code",
   "execution_count": 35,
   "metadata": {},
   "outputs": [],
   "source": [
    "df.drop(['LndAc_S','OthAc_S', 'Cars', 'PoolArea', 'GarYrBlt', 'NmbrBRs'], axis=1, inplace=True)"
   ]
  },
  {
   "cell_type": "code",
   "execution_count": 36,
   "metadata": {},
   "outputs": [
    {
     "data": {
      "text/plain": [
       "(2498, 130)"
      ]
     },
     "execution_count": 36,
     "metadata": {},
     "output_type": "execute_result"
    }
   ],
   "source": [
    "df = pd.get_dummies(df)\n",
    "df.shape"
   ]
  },
  {
   "cell_type": "markdown",
   "metadata": {},
   "source": [
    "---\n",
    "## CNN-Keras"
   ]
  },
  {
   "cell_type": "code",
   "execution_count": 37,
   "metadata": {},
   "outputs": [],
   "source": [
    "y = df['SalePrice']\n",
    "X = df.drop(['SalePrice'], axis=1)"
   ]
  },
  {
   "cell_type": "code",
   "execution_count": 38,
   "metadata": {},
   "outputs": [],
   "source": [
    "X_train, X_test, y_train, y_test = train_test_split(X, y, test_size=0.20, random_state=0)"
   ]
  },
  {
   "cell_type": "code",
   "execution_count": 61,
   "metadata": {},
   "outputs": [],
   "source": [
    "from sklearn.preprocessing import StandardScaler\n",
    "from tensorflow.keras.callbacks import ModelCheckpoint\n",
    "from tensorflow.keras.models import Sequential\n",
    "from tensorflow.keras.layers import Dense, Activation, Flatten\n",
    "from tensorflow.keras import optimizers\n",
    "from sklearn.metrics import mean_absolute_error "
   ]
  },
  {
   "cell_type": "code",
   "execution_count": 40,
   "metadata": {},
   "outputs": [],
   "source": [
    "my_scaler = StandardScaler()\n",
    "X_train = my_scaler.fit_transform(X_train)\n",
    "X_test = my_scaler.transform(X_test)"
   ]
  },
  {
   "cell_type": "code",
   "execution_count": 41,
   "metadata": {},
   "outputs": [
    {
     "data": {
      "text/plain": [
       "(1998, 129)"
      ]
     },
     "execution_count": 41,
     "metadata": {},
     "output_type": "execute_result"
    }
   ],
   "source": [
    "X_train.shape"
   ]
  },
  {
   "cell_type": "code",
   "execution_count": 59,
   "metadata": {},
   "outputs": [],
   "source": [
    "cnn_model = Sequential()\n",
    "\n",
    "cnn_model.add(Dense(256, activation='relu', kernel_initializer='normal', input_shape = (129,)))\n",
    "cnn_model.add(Dense(128, kernel_initializer='normal', activation='relu'))\n",
    "cnn_model.add(Dense(256, kernel_initializer='normal', activation='relu'))\n",
    "\n",
    "cnn_model.add(Dense(1, kernel_initializer='normal', activation='linear'))"
   ]
  },
  {
   "cell_type": "code",
   "execution_count": 62,
   "metadata": {},
   "outputs": [
    {
     "name": "stdout",
     "output_type": "stream",
     "text": [
      "_________________________________________________________________\n",
      "Layer (type)                 Output Shape              Param #   \n",
      "=================================================================\n",
      "dense_20 (Dense)             (None, 256)               33280     \n",
      "_________________________________________________________________\n",
      "dense_21 (Dense)             (None, 128)               32896     \n",
      "_________________________________________________________________\n",
      "dense_22 (Dense)             (None, 256)               33024     \n",
      "_________________________________________________________________\n",
      "dense_23 (Dense)             (None, 1)                 257       \n",
      "=================================================================\n",
      "Total params: 99,457\n",
      "Trainable params: 99,457\n",
      "Non-trainable params: 0\n",
      "_________________________________________________________________\n"
     ]
    }
   ],
   "source": [
    "optimizer = optimizers.RMSprop(0.0099)\n",
    "cnn_model.compile(loss='mean_absolute_error', optimizer=optimizer, metrics=['accuracy'])\n",
    "cnn_model.summary()"
   ]
  },
  {
   "cell_type": "code",
   "execution_count": 67,
   "metadata": {
    "scrolled": true
   },
   "outputs": [
    {
     "data": {
      "text/plain": [
       "<tensorflow.python.keras.callbacks.History at 0x1a408eddd8>"
      ]
     },
     "execution_count": 67,
     "metadata": {},
     "output_type": "execute_result"
    }
   ],
   "source": [
    "cnn_model.fit(X_train, y_train, epochs=2000, verbose = 0)"
   ]
  },
  {
   "cell_type": "code",
   "execution_count": 68,
   "metadata": {},
   "outputs": [
    {
     "name": "stdout",
     "output_type": "stream",
     "text": [
      "500/500 [==============================] - 0s 146us/step\n"
     ]
    },
    {
     "data": {
      "text/plain": [
       "[35857.48659375, 0.0]"
      ]
     },
     "execution_count": 68,
     "metadata": {},
     "output_type": "execute_result"
    }
   ],
   "source": [
    "cnn_model.evaluate(X_test, y_test, verbose = 1)"
   ]
  },
  {
   "cell_type": "code",
   "execution_count": null,
   "metadata": {},
   "outputs": [],
   "source": []
  }
 ],
 "metadata": {
  "kernelspec": {
   "display_name": "Python 3",
   "language": "python",
   "name": "python3"
  },
  "language_info": {
   "codemirror_mode": {
    "name": "ipython",
    "version": 3
   },
   "file_extension": ".py",
   "mimetype": "text/x-python",
   "name": "python",
   "nbconvert_exporter": "python",
   "pygments_lexer": "ipython3",
   "version": "3.6.10"
  }
 },
 "nbformat": 4,
 "nbformat_minor": 4
}
